{
 "cells": [
  {
   "cell_type": "markdown",
   "id": "bab3ddd5",
   "metadata": {},
   "source": [
    "# Скачиваем видео или музыку с Youtube\n",
    "\n",
    "* [Подготовка окружения](#init)\n",
    "* [Поиск по названию](#search)\n",
    "* [Скачивание аудио](#audio)\n",
    "* [Скачивание видео](#video)\n",
    "* [Скачивание плейлиста](#playlist)\n",
    "\n",
    "<a id=\"init\"></a>\n",
    "## Подготовка окружения\n",
    "\n",
    "<div class=\"alert alert-danger\">❗ Это обязательно</div>\n",
    "\n",
    "Первым делом нужно скачать и установить [python](https://www.python.org/downloads/) и [ffmpeg](https://ffmpeg.org/download.html). ffmpeg скачается в виде архива, его нужно разархивировать в папку `ffmpeg` в корне проекта. Затем устанавливаем [yt-dlp](https://github.com/yt-dlp/yt-dlp) командой ниже"
   ]
  },
  {
   "cell_type": "code",
   "execution_count": null,
   "id": "b3aaf289",
   "metadata": {},
   "outputs": [],
   "source": [
    "%pip install -U \"yt-dlp[default]\"\n",
    "\n",
    "import yt_dlp\n",
    "from pandas import DataFrame"
   ]
  },
  {
   "cell_type": "markdown",
   "id": "83122ca2",
   "metadata": {},
   "source": [
    "<a id=\"search\"></a>\n",
    "## Поиск по названию\n",
    "\n",
    "Вводим название в поле `query` и получаем список совпадений. Копируем нужный `url` и идем скачивать."
   ]
  },
  {
   "cell_type": "code",
   "execution_count": null,
   "id": "51348b5e",
   "metadata": {},
   "outputs": [],
   "source": [
    "def search_videos(query):\n",
    "    ydl_opts = {\n",
    "        'quiet': True,\n",
    "        'format': 'best',\n",
    "        'noplaylist': True,\n",
    "        'extract_flat': True,\n",
    "    }\n",
    "\n",
    "    with yt_dlp.YoutubeDL(ydl_opts) as ydl:\n",
    "        search_results = ydl.extract_info(f\"ytsearch10:{query}\", download=False)\n",
    "        return search_results['entries']\n",
    "\n",
    "query = 'eminem rap god'\n",
    "\n",
    "results = search_videos(query)\n",
    "\n",
    "df = DataFrame(results)\n",
    "\n",
    "df_display = df[['title', 'view_count', 'url']]\n",
    "df_display.head(10)\n"
   ]
  },
  {
   "cell_type": "markdown",
   "id": "0152c6b4",
   "metadata": {},
   "source": [
    "<a id=\"audio\"></a>\n",
    "## Скачивание аудио\n",
    "\n",
    "В поле `urls` нужно заменить или добавить ссылки из поиска через запятую. Например вот так:\n",
    "```python\n",
    "urls = [\"https://www.youtube.com/watch?v=S7cQ3b0iqLo\", \"https://www.youtube.com/watch?v=5M860uuTf80\"]\n",
    "```"
   ]
  },
  {
   "cell_type": "code",
   "execution_count": null,
   "id": "3f9169dc",
   "metadata": {},
   "outputs": [],
   "source": [
    "def download_audio(urls):\n",
    "    ydl_opts = {\n",
    "        'paths': {\n",
    "            'home': './downloads/audio'\n",
    "        },\n",
    "        'format': 'bestaudio/best',\n",
    "        'extractaudio': True,\n",
    "        'ffmpeg_location': './ffmpeg/bin/'\n",
    "    }\n",
    "    with yt_dlp.YoutubeDL(ydl_opts) as ydl:\n",
    "        ydl.download(urls)\n",
    "\n",
    "urls = [\"https://www.youtube.com/watch?v=S7cQ3b0iqLo\"]\n",
    "\n",
    "download_audio(urls)"
   ]
  },
  {
   "cell_type": "markdown",
   "id": "e57d7018",
   "metadata": {},
   "source": [
    "<a id=\"video\"></a>\n",
    "## Скачивание видео\n",
    "\n",
    "В поле `urls` нужно заменить или добавить ссылки из поиска через запятую. Так же как и с аудио."
   ]
  },
  {
   "cell_type": "code",
   "execution_count": null,
   "id": "33ac87dd",
   "metadata": {},
   "outputs": [],
   "source": [
    "def download_video(urls):\n",
    "    ydl_opts = {\n",
    "        'paths': {\n",
    "            'home': './downloads/video'\n",
    "        },\n",
    "        'format': 'best',\n",
    "        'ffmpeg_location': './ffmpeg/bin/'\n",
    "    }\n",
    "    with yt_dlp.YoutubeDL(ydl_opts) as ydl:\n",
    "        ydl.download(urls)\n",
    "\n",
    "urls = [\"https://www.youtube.com/watch?v=S7cQ3b0iqLo\"]\n",
    "\n",
    "download_video(urls)"
   ]
  },
  {
   "cell_type": "markdown",
   "id": "b03f95f4",
   "metadata": {},
   "source": [
    "<a id=\"playlist\"></a>\n",
    "## Скачивание плейлиста (аудио)\n",
    "\n",
    "В поле `urls` нужно заменить или добавить ссылки из поиска через запятую. Так же как и с аудио и видео."
   ]
  },
  {
   "cell_type": "code",
   "execution_count": null,
   "id": "ec86ab55",
   "metadata": {},
   "outputs": [],
   "source": [
    "def download_playlist(urls):\n",
    "    ydl_opts = {\n",
    "        'paths': {\n",
    "            'home': './downloads/playlist'\n",
    "        },\n",
    "        'format': 'bestaudio/best',\n",
    "        'extractaudio': True,\n",
    "        'ffmpeg_location': './ffmpeg/bin/',\n",
    "        'outtmpl': '%(playlist)s/%(title)s.%(ext)s',\n",
    "    }\n",
    "    with yt_dlp.YoutubeDL(ydl_opts) as ydl:\n",
    "        ydl.download(urls)\n",
    "\n",
    "urls = [\"https://www.youtube.com/watch?v=FEBi_KhKcxE&list=PLhrvBWWS5uNK-NwMf1oDntv3KK0Mfo6BT\"]\n",
    "\n",
    "download_playlist(urls)"
   ]
  }
 ],
 "metadata": {
  "kernelspec": {
   "display_name": "Python 3",
   "language": "python",
   "name": "python3"
  },
  "language_info": {
   "codemirror_mode": {
    "name": "ipython",
    "version": 3
   },
   "file_extension": ".py",
   "mimetype": "text/x-python",
   "name": "python",
   "nbconvert_exporter": "python",
   "pygments_lexer": "ipython3",
   "version": "3.11.9"
  }
 },
 "nbformat": 4,
 "nbformat_minor": 5
}
